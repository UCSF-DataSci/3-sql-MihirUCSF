{
 "cells": [
  {
   "cell_type": "markdown",
   "id": "ebb94371",
   "metadata": {},
   "source": [
    "# SQL Murder Mystery\n",
    "\n",
    "## Can you find out whodunnit?\n",
    "\n",
    "![A decorative illustration of a detective looking at an evidence board.](https://mystery.knightlab.com/174092-clue-illustration.png)\n",
    "\n",
    "There's been a Murder in SQL City! The SQL Murder Mystery is designed to be both a self-directed lesson to learn SQL concepts and commands and a fun game for experienced SQL users to solve an intriguing crime.\n",
    "\n",
    "## SQL sleuths start here\n",
    "\n",
    "A crime has taken place and the detective needs your help. The detective gave you the crime scene report, but you somehow lost it. You vaguely remember that the crime was a **​murder​**that occurred sometime on ​**Jan.15, 2018​** and that it took place in ​**SQL City​**. Start by retrieving the corresponding crime scene report from the police department’s database.\n",
    "\n",
    "### Exploring the Database Structure\n",
    "\n",
    "Experienced SQL users can often use database queries to infer the structure of a database. But each database system has different ways of managing this information. The SQL Murder Mystery is built using SQLite. Use this SQL command to find the tables in the Murder Mystery database.\n",
    "\n",
    "Run this query to find the names of the tables in this database.\n",
    "\n",
    "This command is specific to SQLite. For other databases, you'll have to learn their specific syntax.\n"
   ]
  },
  {
   "cell_type": "code",
   "execution_count": 1,
   "id": "1370e6a4",
   "metadata": {},
   "outputs": [
    {
     "name": "stdout",
     "output_type": "stream",
     "text": [
      "Note: you may need to restart the kernel to use updated packages.\n"
     ]
    },
    {
     "data": {
      "text/html": [
       "<span style=\"None\">Connecting to &#x27;sqlite:///sql-murder-mystery.db&#x27;</span>"
      ],
      "text/plain": [
       "Connecting to 'sqlite:///sql-murder-mystery.db'"
      ]
     },
     "metadata": {},
     "output_type": "display_data"
    }
   ],
   "source": [
    "# Install required packages\n",
    "%pip install jupysql sqlalchemy pandas --quiet\n",
    "\n",
    "# Load SQL magic\n",
    "%load_ext sql\n",
    "\n",
    "# Connect to the database\n",
    "%sql sqlite:///sql-murder-mystery.db\n",
    "#%config SqlMagic.style = 'table'"
   ]
  },
  {
   "cell_type": "code",
   "execution_count": 2,
   "id": "2f0d9254",
   "metadata": {},
   "outputs": [
    {
     "data": {
      "text/html": [
       "<span style=\"None\">Running query in &#x27;sqlite:///sql-murder-mystery.db&#x27;</span>"
      ],
      "text/plain": [
       "Running query in 'sqlite:///sql-murder-mystery.db'"
      ]
     },
     "metadata": {},
     "output_type": "display_data"
    },
    {
     "data": {
      "text/html": [
       "<table>\n",
       "    <thead>\n",
       "        <tr>\n",
       "            <th>name</th>\n",
       "        </tr>\n",
       "    </thead>\n",
       "    <tbody>\n",
       "        <tr>\n",
       "            <td>crime_scene_report</td>\n",
       "        </tr>\n",
       "        <tr>\n",
       "            <td>drivers_license</td>\n",
       "        </tr>\n",
       "        <tr>\n",
       "            <td>facebook_event_checkin</td>\n",
       "        </tr>\n",
       "        <tr>\n",
       "            <td>interview</td>\n",
       "        </tr>\n",
       "        <tr>\n",
       "            <td>get_fit_now_member</td>\n",
       "        </tr>\n",
       "        <tr>\n",
       "            <td>sqlite_autoindex_get_fit_now_member_1</td>\n",
       "        </tr>\n",
       "        <tr>\n",
       "            <td>get_fit_now_check_in</td>\n",
       "        </tr>\n",
       "        <tr>\n",
       "            <td>solution</td>\n",
       "        </tr>\n",
       "        <tr>\n",
       "            <td>check_solution</td>\n",
       "        </tr>\n",
       "        <tr>\n",
       "            <td>income</td>\n",
       "        </tr>\n",
       "    </tbody>\n",
       "</table>\n",
       "<span style=\"font-style:italic;text-align:center;\">Truncated to <a href=\"https://jupysql.ploomber.io/en/latest/api/configuration.html#displaylimit\">displaylimit</a> of 10.</span>"
      ],
      "text/plain": [
       "+---------------------------------------+\n",
       "|                  name                 |\n",
       "+---------------------------------------+\n",
       "|           crime_scene_report          |\n",
       "|            drivers_license            |\n",
       "|         facebook_event_checkin        |\n",
       "|               interview               |\n",
       "|           get_fit_now_member          |\n",
       "| sqlite_autoindex_get_fit_now_member_1 |\n",
       "|          get_fit_now_check_in         |\n",
       "|                solution               |\n",
       "|             check_solution            |\n",
       "|                 income                |\n",
       "+---------------------------------------+\n",
       "Truncated to displaylimit of 10."
      ]
     },
     "execution_count": 2,
     "metadata": {},
     "output_type": "execute_result"
    }
   ],
   "source": [
    "%%sql\n",
    "SELECT name\n",
    "FROM sqlite_master"
   ]
  },
  {
   "cell_type": "markdown",
   "id": "c71b53aa",
   "metadata": {},
   "source": [
    "\n",
    "Besides knowing the table names, you need to know how each table is structured. The way this works is also dependent upon which database technology you use. Here's how you do it with SQLite.\n",
    "\n",
    "Run this query to find the structure of the `crime_scene_report` table\n",
    "\n",
    "Change the value of 'name' to see the structure of the other tables you learned about with the previous query.\n"
   ]
  },
  {
   "cell_type": "code",
   "execution_count": 5,
   "id": "a977d922",
   "metadata": {},
   "outputs": [
    {
     "data": {
      "text/html": [
       "<span style=\"None\">Running query in &#x27;sqlite:///sql-murder-mystery.db&#x27;</span>"
      ],
      "text/plain": [
       "Running query in 'sqlite:///sql-murder-mystery.db'"
      ]
     },
     "metadata": {},
     "output_type": "display_data"
    },
    {
     "data": {
      "text/html": [
       "<table>\n",
       "    <thead>\n",
       "        <tr>\n",
       "            <th>sql</th>\n",
       "        </tr>\n",
       "    </thead>\n",
       "    <tbody>\n",
       "        <tr>\n",
       "            <td>CREATE TABLE crime_scene_report (<br>        date integer,<br>        type text,<br>        description text,<br>        city text<br>    )</td>\n",
       "        </tr>\n",
       "    </tbody>\n",
       "</table>"
      ],
      "text/plain": [
       "+-----------------------------------+\n",
       "|                sql                |\n",
       "+-----------------------------------+\n",
       "| CREATE TABLE crime_scene_report ( |\n",
       "|               date integer,       |\n",
       "|                 type text,        |\n",
       "|             description text,     |\n",
       "|                 city text         |\n",
       "|                   )               |\n",
       "+-----------------------------------+"
      ]
     },
     "execution_count": 5,
     "metadata": {},
     "output_type": "execute_result"
    }
   ],
   "source": [
    "%%sql\n",
    "SELECT sql\n",
    "FROM sqlite_master\n",
    "where name = 'crime_scene_report'"
   ]
  },
  {
   "cell_type": "markdown",
   "id": "d9789bc7",
   "metadata": {},
   "source": [
    "\n",
    "### The rest is up to you!\n",
    "\n",
    "If you're really comfortable with SQL, you can probably get it from here. To help, here is the schema diagram:\n",
    "\n",
    "![schema diagram](schema.png)\n",
    "\n",
    "Use your knowledge of the database schema and SQL commands to find out who committed the murder.\n",
    "### Check your solution\n",
    "\n",
    "Did you find the killer? When you think you know the answer, submit your suspect using the following code and find out if you're right.\n"
   ]
  },
  {
   "cell_type": "code",
   "execution_count": 6,
   "id": "830ea4a6",
   "metadata": {},
   "outputs": [
    {
     "data": {
      "text/html": [
       "<span style=\"None\">Running query in &#x27;sqlite:///sql-murder-mystery.db&#x27;</span>"
      ],
      "text/plain": [
       "Running query in 'sqlite:///sql-murder-mystery.db'"
      ]
     },
     "metadata": {},
     "output_type": "display_data"
    },
    {
     "data": {
      "text/html": [
       "<span style=\"color: green\">1 rows affected.</span>"
      ],
      "text/plain": [
       "1 rows affected."
      ]
     },
     "metadata": {},
     "output_type": "display_data"
    },
    {
     "data": {
      "text/html": [
       "<table>\n",
       "    <thead>\n",
       "        <tr>\n",
       "            <th>value</th>\n",
       "        </tr>\n",
       "    </thead>\n",
       "    <tbody>\n",
       "        <tr>\n",
       "            <td>That's not the right person. Try again!</td>\n",
       "        </tr>\n",
       "    </tbody>\n",
       "</table>"
      ],
      "text/plain": [
       "+-----------------------------------------+\n",
       "|                  value                  |\n",
       "+-----------------------------------------+\n",
       "| That's not the right person. Try again! |\n",
       "+-----------------------------------------+"
      ]
     },
     "execution_count": 6,
     "metadata": {},
     "output_type": "execute_result"
    }
   ],
   "source": [
    "%%sql\n",
    "INSERT INTO solution VALUES (1, 'Insert the name of the person you found here');\n",
    "SELECT value FROM solution;"
   ]
  },
  {
   "cell_type": "code",
   "execution_count": 3,
   "id": "58d85a84",
   "metadata": {},
   "outputs": [
    {
     "name": "stdout",
     "output_type": "stream",
     "text": [
      "Finding the crime scene report\n",
      "\n"
     ]
    },
    {
     "data": {
      "text/html": [
       "<span style=\"None\">Running query in &#x27;sqlite:///sql-murder-mystery.db&#x27;</span>"
      ],
      "text/plain": [
       "Running query in 'sqlite:///sql-murder-mystery.db'"
      ]
     },
     "metadata": {},
     "output_type": "display_data"
    },
    {
     "name": "stdout",
     "output_type": "stream",
     "text": [
      "Crime Scene Report:\n",
      "Security footage shows that there were 2 witnesses. The first witness lives at the last house on \"Northwestern Dr\". The second witness, named Annabel, lives somewhere on \"Franklin Ave\".\n"
     ]
    }
   ],
   "source": [
    "# SQL Murder Mystery\n",
    "\n",
    "# Step 1: Find the crime scene report\n",
    "print(\"Finding the crime scene report\\n\")\n",
    "\n",
    "crime_scene_report = %sql SELECT * FROM crime_scene_report WHERE date = 20180115 AND type = 'murder' AND city = 'SQL City';\n",
    "\n",
    "# Print the crime scene report description\n",
    "print(\"Crime Scene Report:\")\n",
    "for row in crime_scene_report:\n",
    "    print(row.description)"
   ]
  },
  {
   "cell_type": "code",
   "execution_count": 4,
   "id": "bedf2ebd",
   "metadata": {},
   "outputs": [
    {
     "name": "stdout",
     "output_type": "stream",
     "text": [
      "\n",
      "Finding the first witness\n",
      "\n"
     ]
    },
    {
     "data": {
      "text/html": [
       "<span style=\"None\">Running query in &#x27;sqlite:///sql-murder-mystery.db&#x27;</span>"
      ],
      "text/plain": [
       "Running query in 'sqlite:///sql-murder-mystery.db'"
      ]
     },
     "metadata": {},
     "output_type": "display_data"
    },
    {
     "name": "stdout",
     "output_type": "stream",
     "text": [
      "First Witness:\n",
      "ID: 14887, Name: Morty Schapiro\n",
      "\n",
      "Finding the second witness\n",
      "\n"
     ]
    },
    {
     "data": {
      "text/html": [
       "<span style=\"None\">Running query in &#x27;sqlite:///sql-murder-mystery.db&#x27;</span>"
      ],
      "text/plain": [
       "Running query in 'sqlite:///sql-murder-mystery.db'"
      ]
     },
     "metadata": {},
     "output_type": "display_data"
    },
    {
     "name": "stdout",
     "output_type": "stream",
     "text": [
      "Second Witness:\n",
      "ID: 16371, Name: Annabel Miller\n"
     ]
    }
   ],
   "source": [
    "# Step 2: Find the first witness\n",
    "print(\"\\nFinding the first witness\\n\")\n",
    "\n",
    "witness1 = %sql SELECT id, name, address_number, address_street_name FROM person WHERE address_street_name = 'Northwestern Dr' ORDER BY address_number DESC LIMIT 1;\n",
    "\n",
    "print(\"First Witness:\")\n",
    "print(f\"ID: {witness1[0].id}, Name: {witness1[0].name}\")\n",
    "\n",
    "# Find the second witness \n",
    "print(\"\\nFinding the second witness\\n\")\n",
    "\n",
    "witness2 = %sql SELECT id, name, address_number, address_street_name FROM person WHERE name LIKE '%Annabel%' AND address_street_name = 'Franklin Ave';\n",
    "\n",
    "print(\"Second Witness:\")\n",
    "print(f\"ID: {witness2[0].id}, Name: {witness2[0].name}\")\n"
   ]
  },
  {
   "cell_type": "code",
   "execution_count": 6,
   "id": "024c7e08",
   "metadata": {},
   "outputs": [
    {
     "name": "stdout",
     "output_type": "stream",
     "text": [
      "\n",
      "Getting witness statements\n",
      "\n"
     ]
    },
    {
     "data": {
      "text/html": [
       "<span style=\"None\">Running query in &#x27;sqlite:///sql-murder-mystery.db&#x27;</span>"
      ],
      "text/plain": [
       "Running query in 'sqlite:///sql-murder-mystery.db'"
      ]
     },
     "metadata": {},
     "output_type": "display_data"
    },
    {
     "name": "stdout",
     "output_type": "stream",
     "text": [
      "Witness Statements:\n",
      "Name: Morty Schapiro, Transcript: I heard a gunshot and then saw a man run out. He had a \"Get Fit Now Gym\" bag. The membership number on the bag started with \"48Z\". Only gold members have those bags. The man got into a car with a plate that included \"H42W\".\n",
      "Name: Annabel Miller, Transcript: I saw the murder happen, and I recognized the killer from my gym when I was working out last week on January the 9th.\n"
     ]
    }
   ],
   "source": [
    "# Step 3: Get witness statements\n",
    "print(\"\\nGetting witness statements\\n\")\n",
    "\n",
    "try:\n",
    "    # Validate witness1 and witness2\n",
    "    if len(witness1) == 0 or len(witness2) == 0:\n",
    "        raise ValueError(\"Witness data is missing. Ensure Step 2 executed correctly.\")\n",
    "\n",
    "    # Extract witness IDs\n",
    "    witness1_id = int(witness1[0].id)\n",
    "    witness2_id = int(witness2[0].id)\n",
    "    \n",
    "    # Create a string with the IDs for the SQL query\n",
    "    witness_ids = f\"{witness1_id}, {witness2_id}\"\n",
    "    \n",
    "    result = %sql SELECT p.name, i.transcript FROM interview i JOIN person p ON i.person_id = p.id WHERE p.id IN ({{witness1_id}}, {{witness2_id}})\n",
    "    \n",
    "    # Validate result\n",
    "    if len(result) == 0:\n",
    "        print(\"No witness statements found.\")\n",
    "    else:\n",
    "        print(\"Witness Statements:\")\n",
    "        for row in result:\n",
    "            print(f\"Name: {row.name}, Transcript: {row.transcript}\")\n",
    "\n",
    "except Exception as e:\n",
    "    print(f\"An error occurred while retrieving witness statements: {e}\")"
   ]
  },
  {
   "cell_type": "code",
   "execution_count": 8,
   "id": "d387475f",
   "metadata": {},
   "outputs": [
    {
     "name": "stdout",
     "output_type": "stream",
     "text": [
      "\n",
      "Finding gym members matching the description\n",
      "\n"
     ]
    },
    {
     "data": {
      "text/html": [
       "<span style=\"None\">Running query in &#x27;sqlite:///sql-murder-mystery.db&#x27;</span>"
      ],
      "text/plain": [
       "Running query in 'sqlite:///sql-murder-mystery.db'"
      ]
     },
     "metadata": {},
     "output_type": "display_data"
    },
    {
     "name": "stdout",
     "output_type": "stream",
     "text": [
      "Suspects from Gym (Gold members with ID starting with 48Z):\n",
      "Joe Germuska: 48Z7A, Person ID: 28819\n",
      "Jeremy Bowers: 48Z55, Person ID: 67318\n",
      "\n",
      "Checking gym check-ins for the day of the murder (Jan 15, 2018)\n",
      "\n"
     ]
    },
    {
     "data": {
      "text/html": [
       "<span style=\"None\">Running query in &#x27;sqlite:///sql-murder-mystery.db&#x27;</span>"
      ],
      "text/plain": [
       "Running query in 'sqlite:///sql-murder-mystery.db'"
      ]
     },
     "metadata": {},
     "output_type": "display_data"
    },
    {
     "name": "stdout",
     "output_type": "stream",
     "text": [
      "No check-ins found on the day of the murder for the suspects.\n",
      "\n",
      "Checking gym check-ins for January 9th (mentioned by Annabel)\n",
      "\n"
     ]
    },
    {
     "data": {
      "text/html": [
       "<span style=\"None\">Running query in &#x27;sqlite:///sql-murder-mystery.db&#x27;</span>"
      ],
      "text/plain": [
       "Running query in 'sqlite:///sql-murder-mystery.db'"
      ]
     },
     "metadata": {},
     "output_type": "display_data"
    },
    {
     "name": "stdout",
     "output_type": "stream",
     "text": [
      "Gym Check-ins on January 9th:\n",
      "Joe Germuska: 48Z7A, Check-in: 1600, Check-out: 1730\n",
      "Jeremy Bowers: 48Z55, Check-in: 1530, Check-out: 1700\n"
     ]
    }
   ],
   "source": [
    "# Step 4: Check gym members with ID starting with \"48Z\" and gold status\n",
    "print(\"\\nFinding gym members matching the description\\n\")\n",
    "\n",
    "try:\n",
    "    # Get gold members with ID starting with 48Z\n",
    "    gym_members = %sql SELECT m.id, p.name, m.membership_status, p.id as person_id FROM get_fit_now_member m JOIN person p ON m.person_id = p.id WHERE m.id LIKE '48Z%' AND m.membership_status = 'gold';\n",
    "    \n",
    "    if len(gym_members) == 0:\n",
    "        print(\"No gym members found with the specified criteria.\")\n",
    "    else:\n",
    "        print(\"Suspects from Gym (Gold members with ID starting with 48Z):\")\n",
    "        for member in gym_members:\n",
    "            print(f\"{member.name}: {member.id}, Person ID: {member.person_id}\")\n",
    "    \n",
    "    # Check gym check-ins for the day of the murder (Jan 15, 2018)\n",
    "    print(\"\\nChecking gym check-ins for the day of the murder (Jan 15, 2018)\\n\")\n",
    "    \n",
    "    checkins_murder_day = %sql SELECT c.*, m.person_id, p.name FROM get_fit_now_check_in c JOIN get_fit_now_member m ON c.membership_id = m.id JOIN person p ON m.person_id = p.id WHERE c.check_in_date = 20180115 AND m.id LIKE '48Z%';\n",
    "    \n",
    "    if len(checkins_murder_day) == 0:\n",
    "        print(\"No check-ins found on the day of the murder for the suspects.\")\n",
    "    else:\n",
    "        print(\"Gym Check-ins on the day of the murder:\")\n",
    "        for checkin in checkins_murder_day:\n",
    "            print(f\"{checkin.name}: {checkin.membership_id}, Check-in: {checkin.check_in_time}, Check-out: {checkin.check_out_time}\")\n",
    "    \n",
    "    # Check gym check-ins for January 9th (from Annabel's statement)\n",
    "    print(\"\\nChecking gym check-ins for January 9th (mentioned by Annabel)\\n\")\n",
    "    \n",
    "    checkins_jan9 = %sql SELECT c.*, m.person_id, p.name FROM get_fit_now_check_in c JOIN get_fit_now_member m ON c.membership_id = m.id JOIN person p ON m.person_id = p.id WHERE c.check_in_date = 20180109 AND m.id LIKE '48Z%';\n",
    "    \n",
    "    if len(checkins_jan9) == 0:\n",
    "        print(\"No check-ins found on January 9th for the suspects.\")\n",
    "    else:\n",
    "        print(\"Gym Check-ins on January 9th:\")\n",
    "        for checkin in checkins_jan9:\n",
    "            print(f\"{checkin.name}: {checkin.membership_id}, Check-in: {checkin.check_in_time}, Check-out: {checkin.check_out_time}\")\n",
    "\n",
    "except Exception as e:\n",
    "    print(f\"An error occurred while checking gym information: {e}\")\n"
   ]
  },
  {
   "cell_type": "code",
   "execution_count": 10,
   "id": "e89f6e42",
   "metadata": {},
   "outputs": [
    {
     "name": "stdout",
     "output_type": "stream",
     "text": [
      "\n",
      "Checking driver's license info for suspects\n",
      "\n",
      "Looking for license plates containing 'H42W' for person IDs: 28819, 67318\n"
     ]
    },
    {
     "data": {
      "text/html": [
       "<span style=\"None\">Running query in &#x27;sqlite:///sql-murder-mystery.db&#x27;</span>"
      ],
      "text/plain": [
       "Running query in 'sqlite:///sql-murder-mystery.db'"
      ]
     },
     "metadata": {},
     "output_type": "display_data"
    },
    {
     "name": "stdout",
     "output_type": "stream",
     "text": [
      "Suspects matching car description:\n",
      "Name: Jeremy Bowers\n",
      "License ID: 423327\n",
      "Car: Chevrolet Spark LS, Plate: 0H42W2\n"
     ]
    }
   ],
   "source": [
    "# Step 5: Prepare a list of person IDs from the gym members to check their car plates\n",
    "print(\"\\nChecking driver's license info for suspects\\n\")\n",
    "\n",
    "try:\n",
    "    # Verify gym_members exists and contains data\n",
    "    if 'gym_members' not in locals() or len(gym_members) == 0:\n",
    "        raise ValueError(\"Gym members data is missing. Please ensure Step 4 executed correctly.\")\n",
    "    \n",
    "    # Create a list of person IDs as a string for the SQL query\n",
    "    person_ids = ', '.join(str(member.person_id) for member in gym_members)\n",
    "    \n",
    "    # Log the person IDs\n",
    "    print(f\"Looking for license plates containing 'H42W' for person IDs: {person_ids}\")\n",
    "    \n",
    "    # Execute the query \n",
    "    suspect_licenses = %sql SELECT p.name, p.id as person_id, dl.* FROM drivers_license dl JOIN person p ON dl.id = p.license_id WHERE p.id IN ({{person_ids}}) AND dl.plate_number LIKE '%H42W%';\n",
    "    \n",
    "    # Check if any suspects match the car description\n",
    "    if len(suspect_licenses) == 0:\n",
    "        print(\"No suspects found with license plates containing 'H42W'.\")\n",
    "    else:\n",
    "        print(\"Suspects matching car description:\")\n",
    "        for suspect in suspect_licenses:\n",
    "            print(f\"Name: {suspect.name}\")\n",
    "            print(f\"License ID: {suspect.id}\")\n",
    "            print(f\"Car: {suspect.car_make} {suspect.car_model}, Plate: {suspect.plate_number}\")\n",
    "\n",
    "except Exception as e:\n",
    "    print(f\"An error occurred while checking driver's license info: {e}\")\n"
   ]
  },
  {
   "cell_type": "code",
   "execution_count": 12,
   "id": "b4acac29",
   "metadata": {},
   "outputs": [
    {
     "name": "stdout",
     "output_type": "stream",
     "text": [
      "\n",
      "Identifying the primary suspect\n",
      "\n",
      "The primary suspect is: Jeremy Bowers\n",
      "\n",
      "Evidence summary:\n",
      "1. Jeremy Bowers is a gold member of Get Fit Now Gym with ID starting with '48Z'\n",
      "2. Jeremy Bowers was at the gym on January 9th when Annabel saw the killer\n",
      "3. Jeremy Bowers owns a car with license plate containing 'H42W'\n",
      "\n",
      "All evidence from witness statements points to this suspect.\n"
     ]
    }
   ],
   "source": [
    "# Step 6: Find our primary suspect\n",
    "print(\"\\nIdentifying the primary suspect\\n\")\n",
    "\n",
    "try:\n",
    "    # Verify suspect_licenses exists and contains data\n",
    "    if 'suspect_licenses' not in locals():\n",
    "        raise ValueError(\"Suspect license data is missing. Please ensure Step 5 executed correctly.\")\n",
    "    \n",
    "    if len(suspect_licenses) > 0:\n",
    "        primary_suspect = suspect_licenses[0].name\n",
    "        print(f\"The primary suspect is: {primary_suspect}\")\n",
    "    else:\n",
    "        print(\"No primary suspect identified with the given criteria.\")\n",
    "        primary_suspect = \"Unknown\"\n",
    "    \n",
    "    # Summarize evidence against the primary suspect\n",
    "    if primary_suspect != \"Unknown\":\n",
    "        print(\"\\nEvidence summary:\")\n",
    "        print(f\"1. {primary_suspect} is a gold member of Get Fit Now Gym with ID starting with '48Z'\")\n",
    "        print(f\"2. {primary_suspect} was at the gym on January 9th when Annabel saw the killer\")\n",
    "        print(f\"3. {primary_suspect} owns a car with license plate containing 'H42W'\")\n",
    "        print(\"\\nAll evidence from witness statements points to this suspect.\")\n",
    "\n",
    "except Exception as e:\n",
    "    print(f\"An error occurred while identifying the primary suspect: {e}\")\n",
    "    primary_suspect = \"Unknown\"\n"
   ]
  },
  {
   "cell_type": "code",
   "execution_count": 14,
   "id": "8000d603",
   "metadata": {},
   "outputs": [
    {
     "name": "stdout",
     "output_type": "stream",
     "text": [
      "\n",
      "Verifying our solution\n",
      "\n"
     ]
    },
    {
     "data": {
      "text/html": [
       "<span style=\"None\">Running query in &#x27;sqlite:///sql-murder-mystery.db&#x27;</span>"
      ],
      "text/plain": [
       "Running query in 'sqlite:///sql-murder-mystery.db'"
      ]
     },
     "metadata": {},
     "output_type": "display_data"
    },
    {
     "data": {
      "text/html": [
       "<span style=\"color: green\">1 rows affected.</span>"
      ],
      "text/plain": [
       "1 rows affected."
      ]
     },
     "metadata": {},
     "output_type": "display_data"
    },
    {
     "data": {
      "text/html": [
       "<span style=\"None\">Running query in &#x27;sqlite:///sql-murder-mystery.db&#x27;</span>"
      ],
      "text/plain": [
       "Running query in 'sqlite:///sql-murder-mystery.db'"
      ]
     },
     "metadata": {},
     "output_type": "display_data"
    },
    {
     "data": {
      "text/html": [
       "<span style=\"color: green\">1 rows affected.</span>"
      ],
      "text/plain": [
       "1 rows affected."
      ]
     },
     "metadata": {},
     "output_type": "display_data"
    },
    {
     "name": "stdout",
     "output_type": "stream",
     "text": [
      "Solution check: Congrats, you found the murderer! But wait, there's more... If you think you're up for a challenge, try querying the interview transcript of the murderer to find the real villain behind this crime. If you feel especially confident in your SQL skills, try to complete this final step with no more than 2 queries. Use this same INSERT statement with your new suspect to check your answer.\n",
      "\n",
      "Congratulations! You've solved the murder mystery!\n"
     ]
    }
   ],
   "source": [
    "# Step 7: Verify our solution\n",
    "print(\"\\nVerifying our solution\\n\")\n",
    "\n",
    "try:\n",
    "    # Verify primary_suspect exists and contains data\n",
    "    if 'primary_suspect' not in locals() or primary_suspect is None:\n",
    "        raise ValueError(\"Primary suspect data is missing. Please ensure Step 6 executed correctly.\")\n",
    "    \n",
    "    %sql DELETE FROM solution;\n",
    "    \n",
    "    # Insert the primary suspect's name and check the solution\n",
    "    solution_check = %sql INSERT INTO solution VALUES (1, '{{primary_suspect}}'); SELECT value FROM solution;\n",
    "    \n",
    "    # Check if we got a result\n",
    "    if len(solution_check) > 0:\n",
    "        print(f\"Solution check: {solution_check[0].value}\")\n",
    "        \n",
    "        # Evaluate the result\n",
    "        if \"Congrats\" in str(solution_check[0].value):\n",
    "            print(\"\\nCongratulations! You've solved the murder mystery!\")\n",
    "        else:\n",
    "            print(\"\\nHmm, that doesn't seem to be the right suspect. Let's double-check our evidence.\")\n",
    "    else:\n",
    "        print(\"No solution verification result returned.\")\n",
    "\n",
    "except Exception as e:\n",
    "    print(f\"An error occurred while verifying the solution: {e}\")"
   ]
  },
  {
   "cell_type": "code",
   "execution_count": 21,
   "id": "927a18e2",
   "metadata": {},
   "outputs": [
    {
     "name": "stdout",
     "output_type": "stream",
     "text": [
      "\n",
      "Extracting Jeremy Bowers' confession\n",
      "\n"
     ]
    },
    {
     "data": {
      "text/html": [
       "<span style=\"None\">Running query in &#x27;sqlite:///sql-murder-mystery.db&#x27;</span>"
      ],
      "text/plain": [
       "Running query in 'sqlite:///sql-murder-mystery.db'"
      ]
     },
     "metadata": {},
     "output_type": "display_data"
    },
    {
     "name": "stdout",
     "output_type": "stream",
     "text": [
      "Jeremy Bowers' confession:\n",
      "I was hired by a woman with a lot of money. I don't know her name but I know she's around 5'5\" (65\") or 5'7\" (67\"). She has red hair and she drives a Tesla Model S. I know that she attended the SQL Symphony Concert 3 times in December 2017.\n",
      "\n"
     ]
    }
   ],
   "source": [
    "# Step 8: Extract Jeremy Bowers' confession\n",
    "print(\"\\nExtracting Jeremy Bowers' confession\\n\")\n",
    "\n",
    "try:\n",
    "    # Query Jeremy Bowers' interview transcript\n",
    "    jeremy_confession = %sql SELECT transcript FROM interview WHERE person_id = (SELECT id FROM person WHERE name = 'Jeremy Bowers');\n",
    "    \n",
    "    if len(jeremy_confession) == 0:\n",
    "        print(\"No confession found for Jeremy Bowers.\")\n",
    "    else:\n",
    "        confession_text = jeremy_confession[0].transcript\n",
    "        print(\"Jeremy Bowers' confession:\")\n",
    "        print(confession_text)\n",
    "        \n",
    "except Exception as e:\n",
    "    print(f\"An error occurred while retrieving Jeremy's confession: {e}\")"
   ]
  },
  {
   "cell_type": "code",
   "execution_count": 28,
   "id": "a1c032d5",
   "metadata": {},
   "outputs": [
    {
     "name": "stdout",
     "output_type": "stream",
     "text": [
      "\n",
      "Finding the mastermind based on Jeremy's confession\n",
      "\n",
      "Executing query to find the mastermind...\n",
      "\n"
     ]
    },
    {
     "data": {
      "text/html": [
       "<span style=\"None\">Running query in &#x27;sqlite:///sql-murder-mystery.db&#x27;</span>"
      ],
      "text/plain": [
       "Running query in 'sqlite:///sql-murder-mystery.db'"
      ]
     },
     "metadata": {},
     "output_type": "display_data"
    },
    {
     "name": "stdout",
     "output_type": "stream",
     "text": [
      "The mastermind behind the murder is: Miranda Priestly\n",
      "\n",
      "Verifying our final solution...\n",
      "\n"
     ]
    },
    {
     "data": {
      "text/html": [
       "<span style=\"None\">Running query in &#x27;sqlite:///sql-murder-mystery.db&#x27;</span>"
      ],
      "text/plain": [
       "Running query in 'sqlite:///sql-murder-mystery.db'"
      ]
     },
     "metadata": {},
     "output_type": "display_data"
    },
    {
     "data": {
      "text/html": [
       "<span style=\"color: green\">1 rows affected.</span>"
      ],
      "text/plain": [
       "1 rows affected."
      ]
     },
     "metadata": {},
     "output_type": "display_data"
    },
    {
     "data": {
      "text/html": [
       "<span style=\"None\">Running query in &#x27;sqlite:///sql-murder-mystery.db&#x27;</span>"
      ],
      "text/plain": [
       "Running query in 'sqlite:///sql-murder-mystery.db'"
      ]
     },
     "metadata": {},
     "output_type": "display_data"
    },
    {
     "data": {
      "text/html": [
       "<span style=\"color: green\">1 rows affected.</span>"
      ],
      "text/plain": [
       "1 rows affected."
      ]
     },
     "metadata": {},
     "output_type": "display_data"
    },
    {
     "name": "stdout",
     "output_type": "stream",
     "text": [
      "Final solution check: Congrats, you found the brains behind the murder! Everyone in SQL City hails you as the greatest SQL detective of all time. Time to break out the champagne!\n",
      "\n",
      "Excellent work, detective! You've uncovered the true mastermind behind the crime!\n"
     ]
    }
   ],
   "source": [
    "# Step 9: Find the mastermind based on Jeremy's confession\n",
    "print(\"\\nFinding the mastermind based on Jeremy's confession\\n\")\n",
    "\n",
    "try:\n",
    "    # Based on Jeremy's actual confession, we know the mastermind has these characteristics:\n",
    "    # - Woman with red hair\n",
    "    # - Height between 65-67 inches (5'5\" to 5'7\")\n",
    "    # - Drives a Tesla Model S\n",
    "    # - Attended the SQL Symphony Concert 3 times in December 2017\n",
    "    \n",
    "    print(\"Executing query to find the mastermind...\\n\")\n",
    "    \n",
    "    # The gender information is likely stored in the drivers_license table as well\n",
    "    real_mastermind = %sql SELECT p.name FROM person p JOIN drivers_license dl ON p.license_id = dl.id WHERE dl.hair_color = 'red' AND dl.car_make = 'Tesla' AND dl.car_model = 'Model S' AND dl.height >= 65 AND dl.height <= 67 AND dl.gender = 'female' AND p.id IN (SELECT f.person_id FROM facebook_event_checkin f WHERE f.event_name = 'SQL Symphony Concert' AND f.date LIKE '201712%' GROUP BY f.person_id HAVING COUNT(*) = 3)\n",
    "    \n",
    "    if len(real_mastermind) > 0:\n",
    "        mastermind_name = real_mastermind[0].name\n",
    "        print(f\"The mastermind behind the murder is: {mastermind_name}\")\n",
    "        \n",
    "        # Verify the solution\n",
    "        print(\"\\nVerifying our final solution...\\n\")\n",
    "        %sql DELETE FROM solution;\n",
    "        final_solution = %sql INSERT INTO solution VALUES (1, '{{mastermind_name}}'); SELECT value FROM solution;\n",
    "        \n",
    "        print(f\"Final solution check: {final_solution[0].value}\")\n",
    "        \n",
    "        if \"Congrats\" in str(final_solution[0].value):\n",
    "            print(\"\\nExcellent work, detective! You've uncovered the true mastermind behind the crime!\")\n",
    "        else:\n",
    "            print(\"\\nThat doesn't seem to be the real mastermind. Let's review the evidence again.\")\n",
    "    else:\n",
    "        print(\"No mastermind found matching the criteria from Jeremy's confession.\")\n",
    "\n",
    "except Exception as e:\n",
    "    print(f\"An error occurred while finding the mastermind: {e}\")"
   ]
  }
 ],
 "metadata": {
  "kernelspec": {
   "display_name": "venv",
   "language": "python",
   "name": "python3"
  },
  "language_info": {
   "codemirror_mode": {
    "name": "ipython",
    "version": 3
   },
   "file_extension": ".py",
   "mimetype": "text/x-python",
   "name": "python",
   "nbconvert_exporter": "python",
   "pygments_lexer": "ipython3",
   "version": "3.12.10"
  }
 },
 "nbformat": 4,
 "nbformat_minor": 5
}
